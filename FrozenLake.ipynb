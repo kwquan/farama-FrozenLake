{
 "cells": [
  {
   "cell_type": "code",
   "execution_count": null,
   "metadata": {},
   "outputs": [],
   "source": [
    "from tqdm import tqdm\n",
    "import plotly.graph_objects as go\n",
    "import gymnasium as gym\n",
    "import numpy as np"
   ]
  },
  {
   "cell_type": "markdown",
   "metadata": {},
   "source": [
    "# Dynamic Programming"
   ]
  },
  {
   "cell_type": "code",
   "execution_count": null,
   "metadata": {},
   "outputs": [],
   "source": [
    "env = gym.make('FrozenLake-v1', desc=None, map_name=\"4x4\", is_slippery=False, render_mode='human')\n",
    "theta, discount, episodes = 0.0001, 0.99, 100\n",
    "state_values, new_state_values = np.zeros(env.observation_space.n), np.zeros(env.observation_space.n)"
   ]
  },
  {
   "cell_type": "code",
   "execution_count": null,
   "metadata": {},
   "outputs": [],
   "source": [
    "for episode in tqdm(range(episodes)):\n",
    "    for state in range(len(state_values)):\n",
    "        q_values = np.zeros(env.action_space.n)\n",
    "        for action in range(env.action_space.n):\n",
    "            prob, next_state, reward, is_terminal = env.P[state][action][0]\n",
    "            q_values[action] += prob*(reward + discount*state_values[next_state])\n",
    "        if np.abs(max(q_values)-state_values[state]) > theta:\n",
    "            new_state_values[state] = max(q_values)\n",
    "    state_values = new_state_values\n",
    "print(f\"Sweep done for {episodes} episodes\")    "
   ]
  },
  {
   "cell_type": "code",
   "execution_count": null,
   "metadata": {},
   "outputs": [],
   "source": [
    "state_values.reshape(4,-1)                "
   ]
  },
  {
   "cell_type": "markdown",
   "metadata": {},
   "source": [
    "\"4x4\":<br> [ \n",
    "        \"SFFF\", \\\n",
    "        \"FHFH\", \\\n",
    "        \"FFFH\", \\\n",
    "        \"HFFG\"\n",
    "        ]"
   ]
  },
  {
   "cell_type": "code",
   "execution_count": null,
   "metadata": {},
   "outputs": [],
   "source": [
    "optimal_actions = np.zeros(env.observation_space.n)\n",
    "for state in range(len(state_values)-1):\n",
    "    q_values = np.zeros(env.action_space.n)\n",
    "    for action in range(env.action_space.n):\n",
    "        _, next_state, reward, _ = env.P[state][action][0]\n",
    "        q_values[action] = reward+discount*state_values[next_state]\n",
    "    optimal_actions[state] = np.random.choice([i for i in range(len(q_values)) if q_values[i] == max(q_values)])\n",
    "print(\"Optimal actions selected for all states\")    "
   ]
  },
  {
   "cell_type": "code",
   "execution_count": null,
   "metadata": {},
   "outputs": [],
   "source": [
    "q_values"
   ]
  },
  {
   "cell_type": "code",
   "execution_count": null,
   "metadata": {},
   "outputs": [],
   "source": [
    "optimal_actions.reshape(4,-1)"
   ]
  },
  {
   "cell_type": "code",
   "execution_count": null,
   "metadata": {},
   "outputs": [],
   "source": [
    "observation, info = env.reset()\n",
    "terminate = False\n",
    "state = observation\n",
    "while not terminate:\n",
    "    next_state, _, terminate, _, _ = env.step(action=int(optimal_actions[state]))\n",
    "    state = next_state    \n",
    "env.close()"
   ]
  },
  {
   "cell_type": "markdown",
   "metadata": {},
   "source": [
    "# Every-Visit Monte Carlo"
   ]
  },
  {
   "cell_type": "code",
   "execution_count": null,
   "metadata": {},
   "outputs": [],
   "source": [
    "env = gym.make('FrozenLake-v1', desc=None, map_name=\"4x4\", is_slippery=False)\n",
    "epsilon, episodes, episode_reward, terminate = 0.01, 20000, 0, False\n",
    "episode_values, episodes_rewards, returns = [], [], {}\n",
    "action_values, optimal_actions = np.zeros((env.observation_space.n, env.action_space.n)), np.zeros(env.observation_space.n)"
   ]
  },
  {
   "cell_type": "code",
   "execution_count": null,
   "metadata": {},
   "outputs": [],
   "source": [
    "state, info = env.reset()\n",
    "for episode in tqdm(range(episodes)):\n",
    "    while not terminate:\n",
    "        action_prob = np.random.uniform()\n",
    "        if action_prob < epsilon:\n",
    "            action = env.action_space.sample()\n",
    "        else:    \n",
    "            action = np.random.choice([i for i in range(len(action_values[state])) if action_values[state][i] == max(action_values[state])])\n",
    "        next_state, reward, terminate, _, _ = env.step(int(action))\n",
    "        episode_values.append([state,action,reward])\n",
    "        episode_reward += reward\n",
    "        state = next_state\n",
    "    G = 0    \n",
    "    for i in reversed(range(len(episode_values))):\n",
    "        s,a,r = episode_values[i]\n",
    "        G += r\n",
    "        if returns.get((s,a)):\n",
    "            returns[(s,a)].append(G)\n",
    "        else:\n",
    "            returns[(s,a)] = [G]\n",
    "        action_values[s,a] += (returns[(s,a)][-1]-action_values[s,a])/len(returns[(s,a)])    \n",
    "    \n",
    "    for i in range(len(optimal_actions)-1):\n",
    "        if i not in [5,7,11,12]:\n",
    "            optimal_actions[i] = np.random.choice([j for j in range(len(action_values[i])) if action_values[i,j] == max(action_values[i])])\n",
    "    \n",
    "    state, info = env.reset()\n",
    "    terminate = False\n",
    "    episodes_rewards.append(episode_reward)\n",
    "    episode_values, episode_reward = [], 0"
   ]
  },
  {
   "cell_type": "code",
   "execution_count": null,
   "metadata": {},
   "outputs": [],
   "source": [
    "optimal_actions.reshape(4,-1)"
   ]
  },
  {
   "cell_type": "code",
   "execution_count": null,
   "metadata": {},
   "outputs": [],
   "source": [
    "env = gym.make('FrozenLake-v1', desc=None, map_name=\"4x4\", is_slippery=False, render_mode='human')\n",
    "observation, info = env.reset()\n",
    "terminate = False\n",
    "state = observation\n",
    "while not terminate:\n",
    "    next_state, _, terminate, _, _ = env.step(action=int(optimal_actions[state]))\n",
    "    state = next_state  \n",
    "env.close()"
   ]
  },
  {
   "cell_type": "code",
   "execution_count": null,
   "metadata": {},
   "outputs": [],
   "source": [
    "mean_rewards = np.convolve(episodes_rewards, np.ones(100), 'valid')/100"
   ]
  },
  {
   "cell_type": "code",
   "execution_count": null,
   "metadata": {},
   "outputs": [],
   "source": [
    "fig = go.Figure(data=go.Scatter(x=np.arange(len(mean_rewards)), y=mean_rewards))\n",
    "fig.update_layout(title='Mean Episode Reward',\n",
    "                   xaxis_title='Episode',\n",
    "                   yaxis_title='Mean Reward')\n",
    "fig.show()"
   ]
  }
 ],
 "metadata": {
  "kernelspec": {
   "display_name": "Python 3",
   "language": "python",
   "name": "python3"
  },
  "language_info": {
   "codemirror_mode": {
    "name": "ipython",
    "version": 3
   },
   "file_extension": ".py",
   "mimetype": "text/x-python",
   "name": "python",
   "nbconvert_exporter": "python",
   "pygments_lexer": "ipython3",
   "version": "3.8.3"
  }
 },
 "nbformat": 4,
 "nbformat_minor": 4
}
